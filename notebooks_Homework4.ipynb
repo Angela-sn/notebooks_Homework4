{
  "cells": [
    {
      "cell_type": "code",
      "execution_count": 2,
      "metadata": {
        "trusted": true
      },
      "outputs": [],
      "source": [
        "from os import system\n",
        "from math import factorial\n"
      ]
    },
    {
      "cell_type": "markdown",
      "metadata": {},
      "source": [
        "##1.Случайная непрерывная величина A имеет равномерное распределение на промежутке (200, 800]. Найдите ее среднее значение и дисперсию."
      ]
    },
    {
      "cell_type": "code",
      "execution_count": 3,
      "metadata": {
        "trusted": true
      },
      "outputs": [
        {
          "name": "stdout",
          "output_type": "stream",
          "text": [
            "На промежутке (200, 800]\n",
            "Среднее значение: М(А) =  500\n",
            "Дисперсия: D(A) =  30000\n"
          ]
        }
      ],
      "source": [
        "a = 200\n",
        "b = 800\n",
        "print(f'На промежутке ({a}, {b}]\\nСреднее значение: М(А) = {(a+b)/2: .0f}\\nДисперсия: D(A) = {((b-a)**2)/12: .0f}')"
      ]
    },
    {
      "cell_type": "markdown",
      "metadata": {},
      "source": [
        "##2.О случайной непрерывной равномерно распределенной величине B известно, что ее дисперсия равна 0.2. Можно ли найти правую границу величины B и ее среднее значение зная, что левая граница равна 0.5? Если да, найдите ее."
      ]
    },
    {
      "cell_type": "code",
      "execution_count": 4,
      "metadata": {
        "trusted": true
      },
      "outputs": [
        {
          "name": "stdout",
          "output_type": "stream",
          "text": [
            "Правая граница  величины В =  2.049\n",
            "Среднее значение В на промежутке (0.5;  2.049) M(B) =  1.275\n"
          ]
        }
      ],
      "source": [
        "a = 0.5\n",
        "d = 0.2\n",
        "b = a+(d*12)**(1/2)\n",
        "print(f'Правая граница  величины В = {b: .3f}\\n'\n",
        "      f'Среднее значение В на промежутке ({a}; {b: .3f}) M(B) = {(b+0.5)/2: .3f}')"
      ]
    },
    {
      "cell_type": "markdown",
      "metadata": {},
      "source": [
        "##3.Непрерывная случайная величина X распределена нормально и задана плотностью распределения f(x) = (1 / (4 * sqrt(2pi))) * exp((-(x+2)**2) / 32)Найдите:а). M(X), б). D(X), в). std(X) (среднее квадратичное отклонение)"
      ]
    },
    {
      "cell_type": "code",
      "execution_count": 5,
      "metadata": {
        "trusted": true
      },
      "outputs": [
        {
          "name": "stdout",
          "output_type": "stream",
          "text": [
            "M(x) = a = -2 \n",
            "std(x) = 4 \n",
            "D(x) = std(x)^2 = 16 \n",
            "\n"
          ]
        }
      ],
      "source": [
        "print('M(x) = a = -2 \\n'\n",
        "      'std(x) = 4 \\n'\n",
        "      'D(x) = std(x)^2 = 16 \\n')"
      ]
    },
    {
      "cell_type": "markdown",
      "metadata": {},
      "source": [
        "##4. Рост взрослого населения города X имеет нормальное распределение.\n",
        "Причем, средний рост равен 174 см, а среднее квадратичное отклонение равно 8 см.\n",
        "Какова вероятность того, что случайным образом выбранный взрослый человек имеет рост:\n",
        "а). больше 182 см\n",
        "б). больше 190 см\n",
        "в). от 166 см до 190 см\n",
        "г). от 166 см до 182 см\n",
        "д). от 158 см до 190 см\n",
        "е). не выше 150 см или не ниже 190 см\n",
        "ё). не выше 150 см или не ниже 198 см\n",
        "ж). ниже 166 см."
      ]
    },
    {
      "cell_type": "code",
      "execution_count": 6,
      "metadata": {
        "trusted": true
      },
      "outputs": [],
      "source": [
        "from scipy.stats import norm\n",
        "from os import system"
      ]
    },
    {
      "cell_type": "code",
      "execution_count": 7,
      "metadata": {
        "trusted": true
      },
      "outputs": [
        {
          "name": "stdout",
          "output_type": "stream",
          "text": [
            ">>> Вероятность роста больше 182 см =  0.1587\n",
            ">>> Вероятность роста больше 190 см =  0.0228\n",
            ">>> Вероятность роста от 166 см до 190 см =  0.8186\n",
            ">>> Вероятность роста от 166 см до 182 см =  0.6827\n",
            ">>> Вероятность роста от 158 см до 190 см =  0.9545\n",
            ">>> Вероятность роста не выше 150 см или не ниже 190 см =  0.0241\n",
            ">>> Вероятность роста не выше 150 см или не ниже 198 см =  0.0027\n",
            ">>> Вероятность роста ниже 166 см =  0.1587\n"
          ]
        }
      ],
      "source": [
        "mu = 174\n",
        "sigma = 8\n",
        "\n",
        "a = 182\n",
        "pa = 1-norm.cdf(a, mu, sigma)\n",
        "print(f'>>> Вероятность роста больше {a} см = {pa: .4f}')\n",
        "\n",
        "b = 190\n",
        "pb = 1-norm.cdf(b, mu, sigma)\n",
        "print(f'>>> Вероятность роста больше {b} см = {pb: .4f}')\n",
        "\n",
        "v1, v2 = 166, 190\n",
        "pv = norm.cdf(v2, mu, sigma)-norm.cdf(v1, mu, sigma)\n",
        "print(f'>>> Вероятность роста от {v1} см до {v2} см = {pv: .4f}')\n",
        "\n",
        "g1, g2 = 166, 182\n",
        "pg = norm.cdf(g2, mu, sigma)-norm.cdf(g1, mu, sigma)\n",
        "print(f'>>> Вероятность роста от {g1} см до {g2} см = {pg: .4f}')\n",
        "\n",
        "d1, d2 = 158, 190\n",
        "pd = norm.cdf(d2, mu, sigma)-norm.cdf(d1, mu, sigma)\n",
        "print(f'>>> Вероятность роста от {d1} см до {d2} см = {pd: .4f}')\n",
        "\n",
        "e1, e2 = 150, 190\n",
        "pe = norm.cdf(e1, mu, sigma)+1-norm.cdf(e2, mu, sigma)\n",
        "print(f'>>> Вероятность роста не выше {e1} см или не ниже {e2} см = {pe: .4f}')\n",
        "\n",
        "yo1, yo2 = 150, 198\n",
        "pyo = norm.cdf(yo1, mu, sigma)+1-norm.cdf(yo2, mu, sigma)\n",
        "print(\n",
        "    f'>>> Вероятность роста не выше {yo1} см или не ниже {yo2} см = {pyo: .4f}')\n",
        "\n",
        "zh = 166\n",
        "pzh = norm.cdf(zh, mu, sigma)\n",
        "print(f'>>> Вероятность роста ниже {zh} см = {pzh: .4f}')"
      ]
    },
    {
      "cell_type": "markdown",
      "metadata": {},
      "source": [
        "##5.На сколько сигм (средних квадратичных отклонений) отклоняется рост человека, равный 190 см, от математического ожидания роста в популяции, в которой M(X) = 178 см и D(X) = 25 кв.см?"
      ]
    },
    {
      "cell_type": "code",
      "execution_count": 8,
      "metadata": {
        "trusted": true
      },
      "outputs": [],
      "source": [
        "from math import sqrt\n",
        "from os import system\n"
      ]
    },
    {
      "cell_type": "code",
      "execution_count": 9,
      "metadata": {
        "trusted": true
      },
      "outputs": [
        {
          "name": "stdout",
          "output_type": "stream",
          "text": [
            "Рост человека, равный 190 см, отклоняется от математического ожидания роста в популяции на 2.4 сигм.\n"
          ]
        }
      ],
      "source": [
        "growth = 190\n",
        "mx = 178\n",
        "dx = 25\n",
        "std = sqrt(dx)\n",
        "sigma = (growth-mx)/std\n",
        "print(\n",
        "    f'Рост человека, равный {growth} см, отклоняется от математического ожидания роста в популяции на {sigma} сигм.')"
      ]
    },
    {
      "cell_type": "code",
      "execution_count": null,
      "metadata": {},
      "outputs": [],
      "source": []
    }
  ],
  "metadata": {
    "kernelspec": {
      "display_name": "Python (Pyodide)",
      "language": "python",
      "name": "python"
    },
    "language_info": {
      "codemirror_mode": {
        "name": "python",
        "version": 3
      },
      "file_extension": ".py",
      "mimetype": "text/x-python",
      "name": "python",
      "nbconvert_exporter": "python",
      "pygments_lexer": "ipython3",
      "version": "3.8"
    }
  },
  "nbformat": 4,
  "nbformat_minor": 4
}
